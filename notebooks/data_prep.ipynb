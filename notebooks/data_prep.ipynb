{
 "cells": [
  {
   "cell_type": "markdown",
   "id": "83f33dc2-a7f2-4a9c-b398-dec86d02cd93",
   "metadata": {},
   "source": [
    "## Game Data"
   ]
  },
  {
   "cell_type": "code",
   "execution_count": null,
   "id": "606b64ee-a278-4e97-8057-2c96b3d9e248",
   "metadata": {},
   "outputs": [],
   "source": [
    "# !pip install chessdata"
   ]
  },
  {
   "cell_type": "code",
   "execution_count": 1,
   "id": "70fc768d-e146-4f35-8244-d0d1fc0e14fd",
   "metadata": {},
   "outputs": [],
   "source": [
    "from pathlib import Path\n",
    "from chessdata.etf import pgn2df"
   ]
  },
  {
   "cell_type": "code",
   "execution_count": 2,
   "id": "669f3342-1b65-45d2-a679-8dc6ef28489e",
   "metadata": {},
   "outputs": [
    {
     "data": {
      "text/plain": [
       "['Anand',\n",
       " 'Andreikin',\n",
       " 'Aronian',\n",
       " 'Bu',\n",
       " 'carlsen',\n",
       " 'Caruana',\n",
       " 'ding',\n",
       " 'DominguezPerez',\n",
       " 'Duda',\n",
       " 'Eljanov',\n",
       " 'erigaisi',\n",
       " 'Firouzja',\n",
       " 'Giri',\n",
       " 'Grischuk',\n",
       " 'gukesh',\n",
       " 'Harikrishna',\n",
       " 'Karjakin',\n",
       " 'Le',\n",
       " 'Mamedyarov',\n",
       " 'Nakamura',\n",
       " 'nepo',\n",
       " 'Nepomniachtchi',\n",
       " 'niemann',\n",
       " 'Radjabov',\n",
       " 'Rapport',\n",
       " 'So',\n",
       " 'Tomashevsky',\n",
       " 'Topalov',\n",
       " 'VachierLagrave',\n",
       " 'VallejoPons',\n",
       " 'Vitiugov',\n",
       " 'WangH',\n",
       " 'Wei',\n",
       " 'Yu']"
      ]
     },
     "execution_count": 2,
     "metadata": {},
     "output_type": "execute_result"
    }
   ],
   "source": [
    "path = Path(\"../\")\n",
    "pgns = Path(path/\"pgns\")\n",
    "players = [pgn.stem for pgn in pgns.glob(\"*.pgn\")]\n",
    "players"
   ]
  },
  {
   "cell_type": "markdown",
   "id": "7d135389-7683-4ba4-add9-b6a26ab07430",
   "metadata": {},
   "source": [
    "Extract the game metadata from the pgn into a csv."
   ]
  },
  {
   "cell_type": "code",
   "execution_count": 26,
   "id": "bb52953b-f25b-49fa-822b-93897e41d914",
   "metadata": {},
   "outputs": [
    {
     "name": "stdout",
     "output_type": "stream",
     "text": [
      "Anand\n",
      "(216, 10)\n",
      "Andreikin\n",
      "(1924, 10)\n",
      "Aronian\n",
      "(978, 10)\n",
      "Bu\n",
      "(45, 10)\n",
      "carlsen\n",
      "(1463, 10)\n",
      "Caruana\n",
      "(1019, 10)\n",
      "ding\n",
      "(552, 10)\n",
      "DominguezPerez\n",
      "(442, 10)\n",
      "Duda\n",
      "(780, 10)\n",
      "Eljanov\n",
      "(630, 10)\n",
      "erigaisi\n",
      "(280, 26)\n",
      "Firouzja\n",
      "(1193, 10)\n",
      "Giri\n",
      "(1095, 10)\n",
      "Grischuk\n",
      "(1206, 10)\n",
      "gukesh\n",
      "(283, 26)\n",
      "Harikrishna\n",
      "(362, 10)\n",
      "Karjakin\n",
      "(521, 10)\n",
      "Le\n",
      "(453, 10)\n",
      "Mamedyarov\n",
      "(1147, 10)\n",
      "Nakamura\n",
      "(2433, 10)\n",
      "nepo\n",
      "(78, 22)\n",
      "Nepomniachtchi\n",
      "(934, 10)\n",
      "niemann\n",
      "(362, 24)\n",
      "Radjabov\n",
      "(332, 10)\n",
      "Rapport\n",
      "(388, 10)\n",
      "So\n",
      "(1230, 10)\n",
      "Tomashevsky\n",
      "(262, 10)\n",
      "Topalov\n",
      "(123, 10)\n",
      "VachierLagrave\n",
      "(992, 10)\n",
      "VallejoPons\n",
      "(125, 10)\n",
      "Vitiugov\n",
      "(316, 10)\n",
      "WangH\n",
      "(82, 10)\n",
      "Wei\n",
      "(205, 10)\n",
      "Yu\n",
      "(186, 10)\n"
     ]
    }
   ],
   "source": [
    "for player in players:\n",
    "    pgn = open(pgns/f\"{player}.pgn\")\n",
    "    df = pgn2df(pgn)\n",
    "    df = df[df['Date'] > '2020.01.01']\n",
    "    print(player)\n",
    "    print(df.shape)\n",
    "    df.to_csv(path/f\"output/metadata/{player}.csv\")"
   ]
  },
  {
   "cell_type": "markdown",
   "id": "98b5271e-b235-4437-a663-89864846387d",
   "metadata": {},
   "source": [
    "## Engine Evals"
   ]
  },
  {
   "cell_type": "code",
   "execution_count": 3,
   "id": "f6e84378-600c-404e-aa13-49dde9c63a5c",
   "metadata": {},
   "outputs": [],
   "source": [
    "from datetime import datetime\n",
    "import chess.engine\n",
    "from chessdata.engine import evaluate_pgn"
   ]
  },
  {
   "cell_type": "code",
   "execution_count": 8,
   "id": "e74273d0-f97c-48ce-9be0-58f4e371ef91",
   "metadata": {},
   "outputs": [],
   "source": [
    "stockfish = '../stockfish_15_x64_avx2.exe' # location of your stockfish executable"
   ]
  },
  {
   "cell_type": "markdown",
   "id": "c5ceae27-400d-4f04-bc8a-f936473a33bc",
   "metadata": {},
   "source": [
    "Analyze all games move-by-move. Warning: this takes a long time!"
   ]
  },
  {
   "cell_type": "code",
   "execution_count": 9,
   "id": "9793f027-73b0-4527-970b-0318c4da8bb0",
   "metadata": {},
   "outputs": [
    {
     "name": "stdout",
     "output_type": "stream",
     "text": [
      "Anand\n",
      "2022-11-14 17:50:33\n"
     ]
    },
    {
     "ename": "KeyboardInterrupt",
     "evalue": "",
     "output_type": "error",
     "traceback": [
      "\u001b[1;31m---------------------------------------------------------------------------\u001b[0m",
      "\u001b[1;31mKeyboardInterrupt\u001b[0m                         Traceback (most recent call last)",
      "\u001b[1;32mc:\\Users\\Dan Lim\\Desktop\\ANLY511Proj\\notebooks\\data_prep.ipynb Cell 11\u001b[0m in \u001b[0;36m<cell line: 1>\u001b[1;34m()\u001b[0m\n\u001b[0;32m      <a href='vscode-notebook-cell:/c%3A/Users/Dan%20Lim/Desktop/ANLY511Proj/notebooks/data_prep.ipynb#X14sZmlsZQ%3D%3D?line=3'>4</a>\u001b[0m engine \u001b[39m=\u001b[39m chess\u001b[39m.\u001b[39mengine\u001b[39m.\u001b[39mSimpleEngine\u001b[39m.\u001b[39mpopen_uci(stockfish)\n\u001b[0;32m      <a href='vscode-notebook-cell:/c%3A/Users/Dan%20Lim/Desktop/ANLY511Proj/notebooks/data_prep.ipynb#X14sZmlsZQ%3D%3D?line=4'>5</a>\u001b[0m pgn \u001b[39m=\u001b[39m \u001b[39mopen\u001b[39m(pgns\u001b[39m/\u001b[39m\u001b[39mf\u001b[39m\u001b[39m\"\u001b[39m\u001b[39m{\u001b[39;00mplayer\u001b[39m}\u001b[39;00m\u001b[39m.pgn\u001b[39m\u001b[39m\"\u001b[39m)\n\u001b[1;32m----> <a href='vscode-notebook-cell:/c%3A/Users/Dan%20Lim/Desktop/ANLY511Proj/notebooks/data_prep.ipynb#X14sZmlsZQ%3D%3D?line=5'>6</a>\u001b[0m evals \u001b[39m=\u001b[39m evaluate_pgn(pgn, engine, limit\u001b[39m=\u001b[39;49mchess\u001b[39m.\u001b[39;49mengine\u001b[39m.\u001b[39;49mLimit(depth\u001b[39m=\u001b[39;49m\u001b[39m15\u001b[39;49m))\n\u001b[0;32m      <a href='vscode-notebook-cell:/c%3A/Users/Dan%20Lim/Desktop/ANLY511Proj/notebooks/data_prep.ipynb#X14sZmlsZQ%3D%3D?line=6'>7</a>\u001b[0m evals\u001b[39m.\u001b[39mto_csv(path\u001b[39m/\u001b[39m\u001b[39mf\u001b[39m\u001b[39m\"\u001b[39m\u001b[39moutput/centipawns/\u001b[39m\u001b[39m{\u001b[39;00mplayer\u001b[39m}\u001b[39;00m\u001b[39m.csv\u001b[39m\u001b[39m\"\u001b[39m)\n",
      "File \u001b[1;32mc:\\anaconda\\envs\\ANLY501\\lib\\site-packages\\chessdata\\engine.py:31\u001b[0m, in \u001b[0;36mevaluate_pgn\u001b[1;34m(pgn, engine, limit)\u001b[0m\n\u001b[0;32m     29\u001b[0m all_evals \u001b[39m=\u001b[39m []\n\u001b[0;32m     30\u001b[0m \u001b[39mwhile\u001b[39;00m game:\n\u001b[1;32m---> 31\u001b[0m     evals \u001b[39m=\u001b[39m evaluate_game(game, engine, limit)\n\u001b[0;32m     32\u001b[0m     all_evals\u001b[39m.\u001b[39mappend(evals)\n\u001b[0;32m     33\u001b[0m     game \u001b[39m=\u001b[39m chess\u001b[39m.\u001b[39mpgn\u001b[39m.\u001b[39mread_game(pgn)\n",
      "File \u001b[1;32mc:\\anaconda\\envs\\ANLY501\\lib\\site-packages\\chessdata\\engine.py:19\u001b[0m, in \u001b[0;36mevaluate_game\u001b[1;34m(game, engine, limit)\u001b[0m\n\u001b[0;32m     17\u001b[0m \u001b[39mfor\u001b[39;00m move \u001b[39min\u001b[39;00m moves:\n\u001b[0;32m     18\u001b[0m     board\u001b[39m.\u001b[39mpush(move)\n\u001b[1;32m---> 19\u001b[0m     info \u001b[39m=\u001b[39m engine\u001b[39m.\u001b[39;49manalyse(board, limit\u001b[39m=\u001b[39;49mlimit)\n\u001b[0;32m     20\u001b[0m     score \u001b[39m=\u001b[39m info[\u001b[39m\"\u001b[39m\u001b[39mscore\u001b[39m\u001b[39m\"\u001b[39m]\u001b[39m.\u001b[39mpov(chess\u001b[39m.\u001b[39mWHITE)\u001b[39m.\u001b[39mscore(mate_score\u001b[39m=\u001b[39m\u001b[39m10_000\u001b[39m)\n\u001b[0;32m     21\u001b[0m     evals\u001b[39m.\u001b[39mappend(score)\n",
      "File \u001b[1;32mc:\\anaconda\\envs\\ANLY501\\lib\\site-packages\\chess\\engine.py:2795\u001b[0m, in \u001b[0;36mSimpleEngine.analyse\u001b[1;34m(self, board, limit, multipv, game, info, root_moves, options)\u001b[0m\n\u001b[0;32m   2791\u001b[0m     coro \u001b[39m=\u001b[39m asyncio\u001b[39m.\u001b[39mwait_for(\n\u001b[0;32m   2792\u001b[0m         \u001b[39mself\u001b[39m\u001b[39m.\u001b[39mprotocol\u001b[39m.\u001b[39manalyse(board, limit, multipv\u001b[39m=\u001b[39mmultipv, game\u001b[39m=\u001b[39mgame, info\u001b[39m=\u001b[39minfo, root_moves\u001b[39m=\u001b[39mroot_moves, options\u001b[39m=\u001b[39moptions),\n\u001b[0;32m   2793\u001b[0m         \u001b[39mself\u001b[39m\u001b[39m.\u001b[39m_timeout_for(limit))\n\u001b[0;32m   2794\u001b[0m     future \u001b[39m=\u001b[39m asyncio\u001b[39m.\u001b[39mrun_coroutine_threadsafe(coro, \u001b[39mself\u001b[39m\u001b[39m.\u001b[39mprotocol\u001b[39m.\u001b[39mloop)\n\u001b[1;32m-> 2795\u001b[0m \u001b[39mreturn\u001b[39;00m future\u001b[39m.\u001b[39;49mresult()\n",
      "File \u001b[1;32mc:\\anaconda\\envs\\ANLY501\\lib\\concurrent\\futures\\_base.py:453\u001b[0m, in \u001b[0;36mFuture.result\u001b[1;34m(self, timeout)\u001b[0m\n\u001b[0;32m    450\u001b[0m \u001b[39melif\u001b[39;00m \u001b[39mself\u001b[39m\u001b[39m.\u001b[39m_state \u001b[39m==\u001b[39m FINISHED:\n\u001b[0;32m    451\u001b[0m     \u001b[39mreturn\u001b[39;00m \u001b[39mself\u001b[39m\u001b[39m.\u001b[39m__get_result()\n\u001b[1;32m--> 453\u001b[0m \u001b[39mself\u001b[39;49m\u001b[39m.\u001b[39;49m_condition\u001b[39m.\u001b[39;49mwait(timeout)\n\u001b[0;32m    455\u001b[0m \u001b[39mif\u001b[39;00m \u001b[39mself\u001b[39m\u001b[39m.\u001b[39m_state \u001b[39min\u001b[39;00m [CANCELLED, CANCELLED_AND_NOTIFIED]:\n\u001b[0;32m    456\u001b[0m     \u001b[39mraise\u001b[39;00m CancelledError()\n",
      "File \u001b[1;32mc:\\anaconda\\envs\\ANLY501\\lib\\threading.py:320\u001b[0m, in \u001b[0;36mCondition.wait\u001b[1;34m(self, timeout)\u001b[0m\n\u001b[0;32m    318\u001b[0m \u001b[39mtry\u001b[39;00m:    \u001b[39m# restore state no matter what (e.g., KeyboardInterrupt)\u001b[39;00m\n\u001b[0;32m    319\u001b[0m     \u001b[39mif\u001b[39;00m timeout \u001b[39mis\u001b[39;00m \u001b[39mNone\u001b[39;00m:\n\u001b[1;32m--> 320\u001b[0m         waiter\u001b[39m.\u001b[39;49macquire()\n\u001b[0;32m    321\u001b[0m         gotit \u001b[39m=\u001b[39m \u001b[39mTrue\u001b[39;00m\n\u001b[0;32m    322\u001b[0m     \u001b[39melse\u001b[39;00m:\n",
      "\u001b[1;31mKeyboardInterrupt\u001b[0m: "
     ]
    }
   ],
   "source": [
    "for player in players:\n",
    "    print(player)\n",
    "    print(datetime.now().strftime('%Y-%m-%d %H:%M:%S'))\n",
    "    engine = chess.engine.SimpleEngine.popen_uci(stockfish)\n",
    "    pgn = open(pgns/f\"{player}.pgn\")\n",
    "    evals = evaluate_pgn(pgn, engine, limit=chess.engine.Limit(depth=15))\n",
    "    evals.to_csv(path/f\"output/centipawns/{player}.csv\")"
   ]
  }
 ],
 "metadata": {
  "kernelspec": {
   "display_name": "Python 3.10.6 ('ANLY501')",
   "language": "python",
   "name": "python3"
  },
  "language_info": {
   "codemirror_mode": {
    "name": "ipython",
    "version": 3
   },
   "file_extension": ".py",
   "mimetype": "text/x-python",
   "name": "python",
   "nbconvert_exporter": "python",
   "pygments_lexer": "ipython3",
   "version": "3.10.6"
  },
  "vscode": {
   "interpreter": {
    "hash": "ea9dbe9f1ceea520258f7c79d3032f6041e6e0b09a8802a98b59f7606cb93a48"
   }
  }
 },
 "nbformat": 4,
 "nbformat_minor": 5
}
