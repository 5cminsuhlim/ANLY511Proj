{
 "cells": [
  {
   "cell_type": "markdown",
   "id": "83f33dc2-a7f2-4a9c-b398-dec86d02cd93",
   "metadata": {},
   "source": [
    "## Game Data"
   ]
  },
  {
   "cell_type": "code",
   "execution_count": null,
   "id": "606b64ee-a278-4e97-8057-2c96b3d9e248",
   "metadata": {},
   "outputs": [],
   "source": [
    "# !pip install chessdata"
   ]
  },
  {
   "cell_type": "code",
   "execution_count": 1,
   "id": "70fc768d-e146-4f35-8244-d0d1fc0e14fd",
   "metadata": {},
   "outputs": [],
   "source": [
    "from pathlib import Path\n",
    "from chessdata.etf import pgn2df"
   ]
  },
  {
   "cell_type": "code",
   "execution_count": 2,
   "id": "669f3342-1b65-45d2-a679-8dc6ef28489e",
   "metadata": {},
   "outputs": [
    {
     "data": {
      "text/plain": [
       "['Anand',\n",
       " 'Andreikin',\n",
       " 'Aronian',\n",
       " 'Bu',\n",
       " 'carlsen',\n",
       " 'Caruana',\n",
       " 'ding',\n",
       " 'DominguezPerez',\n",
       " 'Duda',\n",
       " 'Eljanov',\n",
       " 'erigaisi',\n",
       " 'Firouzja',\n",
       " 'Giri',\n",
       " 'Grischuk',\n",
       " 'gukesh',\n",
       " 'Harikrishna',\n",
       " 'Karjakin',\n",
       " 'Le',\n",
       " 'Mamedyarov',\n",
       " 'Nakamura',\n",
       " 'nepo',\n",
       " 'Nepomniachtchi',\n",
       " 'niemann',\n",
       " 'Radjabov',\n",
       " 'Rapport',\n",
       " 'So',\n",
       " 'Tomashevsky',\n",
       " 'Topalov',\n",
       " 'VachierLagrave',\n",
       " 'VallejoPons',\n",
       " 'Vitiugov',\n",
       " 'WangH',\n",
       " 'Wei',\n",
       " 'Yu']"
      ]
     },
     "execution_count": 2,
     "metadata": {},
     "output_type": "execute_result"
    }
   ],
   "source": [
    "path = Path(\"../\")\n",
    "pgns = Path(path/\"pgns\")\n",
    "players = [pgn.stem for pgn in pgns.glob(\"*.pgn\")]\n",
    "players"
   ]
  },
  {
   "cell_type": "markdown",
   "id": "7d135389-7683-4ba4-add9-b6a26ab07430",
   "metadata": {},
   "source": [
    "Extract the game metadata from the pgn into a csv."
   ]
  },
  {
   "cell_type": "code",
   "execution_count": 26,
   "id": "bb52953b-f25b-49fa-822b-93897e41d914",
   "metadata": {},
   "outputs": [
    {
     "name": "stdout",
     "output_type": "stream",
     "text": [
      "Anand\n",
      "(216, 10)\n",
      "Andreikin\n",
      "(1924, 10)\n",
      "Aronian\n",
      "(978, 10)\n",
      "Bu\n",
      "(45, 10)\n",
      "carlsen\n",
      "(1463, 10)\n",
      "Caruana\n",
      "(1019, 10)\n",
      "ding\n",
      "(552, 10)\n",
      "DominguezPerez\n",
      "(442, 10)\n",
      "Duda\n",
      "(780, 10)\n",
      "Eljanov\n",
      "(630, 10)\n",
      "erigaisi\n",
      "(280, 26)\n",
      "Firouzja\n",
      "(1193, 10)\n",
      "Giri\n",
      "(1095, 10)\n",
      "Grischuk\n",
      "(1206, 10)\n",
      "gukesh\n",
      "(283, 26)\n",
      "Harikrishna\n",
      "(362, 10)\n",
      "Karjakin\n",
      "(521, 10)\n",
      "Le\n",
      "(453, 10)\n",
      "Mamedyarov\n",
      "(1147, 10)\n",
      "Nakamura\n",
      "(2433, 10)\n",
      "nepo\n",
      "(78, 22)\n",
      "Nepomniachtchi\n",
      "(934, 10)\n",
      "niemann\n",
      "(362, 24)\n",
      "Radjabov\n",
      "(332, 10)\n",
      "Rapport\n",
      "(388, 10)\n",
      "So\n",
      "(1230, 10)\n",
      "Tomashevsky\n",
      "(262, 10)\n",
      "Topalov\n",
      "(123, 10)\n",
      "VachierLagrave\n",
      "(992, 10)\n",
      "VallejoPons\n",
      "(125, 10)\n",
      "Vitiugov\n",
      "(316, 10)\n",
      "WangH\n",
      "(82, 10)\n",
      "Wei\n",
      "(205, 10)\n",
      "Yu\n",
      "(186, 10)\n"
     ]
    }
   ],
   "source": [
    "for player in players:\n",
    "    pgn = open(pgns/f\"{player}.pgn\")\n",
    "    df = pgn2df(pgn)\n",
    "    df = df[df['Date'] > '2020.01.01']\n",
    "    print(player)\n",
    "    print(df.shape)\n",
    "    df.to_csv(path/f\"output/metadata/{player}.csv\")"
   ]
  },
  {
   "cell_type": "markdown",
   "id": "98b5271e-b235-4437-a663-89864846387d",
   "metadata": {},
   "source": [
    "## Engine Evals"
   ]
  },
  {
   "cell_type": "code",
   "execution_count": 3,
   "id": "f6e84378-600c-404e-aa13-49dde9c63a5c",
   "metadata": {},
   "outputs": [],
   "source": [
    "from datetime import datetime\n",
    "import chess.engine\n",
    "from chessdata.engine import evaluate_pgn"
   ]
  },
  {
   "cell_type": "code",
   "execution_count": 8,
   "id": "e74273d0-f97c-48ce-9be0-58f4e371ef91",
   "metadata": {},
   "outputs": [],
   "source": [
    "stockfish = '../stockfish_15_x64_avx2.exe' # location of your stockfish executable"
   ]
  },
  {
   "cell_type": "markdown",
   "id": "c5ceae27-400d-4f04-bc8a-f936473a33bc",
   "metadata": {},
   "source": [
    "Analyze all games move-by-move. Warning: this takes a long time!"
   ]
  },
  {
   "cell_type": "code",
   "execution_count": 9,
   "id": "9793f027-73b0-4527-970b-0318c4da8bb0",
   "metadata": {},
   "outputs": [
    {
     "name": "stdout",
     "output_type": "stream",
     "text": [
      "Anand\n",
      "2022-11-14 17:50:33\n"
     ]
    }
   ],
   "source": [
    "for player in players:\n",
    "    print(player)\n",
    "    print(datetime.now().strftime('%Y-%m-%d %H:%M:%S'))\n",
    "    engine = chess.engine.SimpleEngine.popen_uci(stockfish)\n",
    "    pgn = open(pgns/f\"{player}.pgn\")\n",
    "    evals = evaluate_pgn(pgn, engine, limit=chess.engine.Limit(depth=15))\n",
    "    evals.to_csv(path/f\"output/centipawns/{player}.csv\")"
   ]
  }
 ],
 "metadata": {
  "kernelspec": {
   "display_name": "Python 3.10.6 ('ANLY501')",
   "language": "python",
   "name": "python3"
  },
  "language_info": {
   "codemirror_mode": {
    "name": "ipython",
    "version": 3
   },
   "file_extension": ".py",
   "mimetype": "text/x-python",
   "name": "python",
   "nbconvert_exporter": "python",
   "pygments_lexer": "ipython3",
   "version": "3.10.6"
  },
  "vscode": {
   "interpreter": {
    "hash": "ea9dbe9f1ceea520258f7c79d3032f6041e6e0b09a8802a98b59f7606cb93a48"
   }
  }
 },
 "nbformat": 4,
 "nbformat_minor": 5
}
