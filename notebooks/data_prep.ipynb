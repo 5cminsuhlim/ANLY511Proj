{
 "cells": [
  {
   "cell_type": "markdown",
   "id": "83f33dc2-a7f2-4a9c-b398-dec86d02cd93",
   "metadata": {},
   "source": [
    "## Game Data"
   ]
  },
  {
   "cell_type": "code",
   "execution_count": 27,
   "id": "606b64ee-a278-4e97-8057-2c96b3d9e248",
   "metadata": {},
   "outputs": [],
   "source": [
    "# !pip install chessdata"
   ]
  },
  {
   "cell_type": "code",
   "execution_count": 1,
   "id": "70fc768d-e146-4f35-8244-d0d1fc0e14fd",
   "metadata": {},
   "outputs": [],
   "source": [
    "from pathlib import Path\n",
    "from chessdata.etf import pgn2df"
   ]
  },
  {
   "cell_type": "code",
   "execution_count": 5,
   "id": "669f3342-1b65-45d2-a679-8dc6ef28489e",
   "metadata": {},
   "outputs": [],
   "source": [
    "path = Path(\"../\")\n",
    "pgns = Path(path/\"pgns\")\n",
    "#players = [pgn.stem for pgn in pgns.glob(\"*.pgn\")]\n",
    "players=[\"gukesh\",\"Harikrishna\",\"Karjakin\",\"Le\",\"Mamedyarov\",\"Nakamura\",\"nepo\"]\n"
   ]
  },
  {
   "cell_type": "markdown",
   "id": "7d135389-7683-4ba4-add9-b6a26ab07430",
   "metadata": {},
   "source": [
    "Extract the game metadata from the pgn into a csv."
   ]
  },
  {
   "cell_type": "code",
   "execution_count": 6,
   "id": "bb52953b-f25b-49fa-822b-93897e41d914",
   "metadata": {},
   "outputs": [
    {
     "name": "stdout",
     "output_type": "stream",
     "text": [
      "gukesh\n",
      "(278, 26)\n",
      "Harikrishna\n",
      "(177, 10)\n",
      "Karjakin\n",
      "(150, 10)\n",
      "Le\n",
      "(7, 10)\n",
      "Mamedyarov\n",
      "(334, 10)\n",
      "Nakamura\n",
      "(64, 10)\n",
      "nepo\n",
      "(78, 22)\n"
     ]
    }
   ],
   "source": [
    "for player in players:\n",
    "    pgn = open(pgns/f\"{player}.pgn\")\n",
    "    df = pgn2df(pgn)\n",
    "    df = df[df['Date'] > '2020.01.01'] ## only keep games after 2020\n",
    "    df = df[df['Site'].str.contains(\".com\")==False] ## only keep over-the-board chess (i.e. remove online games)\n",
    "    df = df[df['Site'].str.contains(\".org\")==False] ## only keep over-the-board chess (i.e. remove online games)\n",
    "    df = df[df['Event'].str.contains(\"Online\")==False] ## only keep over-the-board chess (i.e. remove online games)\n",
    "    print(player)\n",
    "    print(df.shape)\n",
    "    #df.to_csv(path/f\"output/metadata/{player}.csv\")"
   ]
  },
  {
   "cell_type": "markdown",
   "id": "98b5271e-b235-4437-a663-89864846387d",
   "metadata": {},
   "source": [
    "## Engine Evals"
   ]
  },
  {
   "cell_type": "code",
   "execution_count": 7,
   "id": "f6e84378-600c-404e-aa13-49dde9c63a5c",
   "metadata": {},
   "outputs": [],
   "source": [
    "from datetime import datetime\n",
    "import chess.engine\n",
    "from chessdata.engine import evaluate_pgn"
   ]
  },
  {
   "cell_type": "code",
   "execution_count": 32,
   "id": "e74273d0-f97c-48ce-9be0-58f4e371ef91",
   "metadata": {},
   "outputs": [],
   "source": [
    "stockfish = '../stockfish' # location of your stockfish executable"
   ]
  },
  {
   "cell_type": "markdown",
   "id": "c5ceae27-400d-4f04-bc8a-f936473a33bc",
   "metadata": {},
   "source": [
    "Analyze all games move-by-move. Warning: this takes a long time!"
   ]
  },
  {
   "cell_type": "code",
   "execution_count": 33,
   "id": "9793f027-73b0-4527-970b-0318c4da8bb0",
   "metadata": {},
   "outputs": [
    {
     "name": "stdout",
     "output_type": "stream",
     "text": [
      "gukesh\n",
      "2022-11-27 16:12:22\n",
      "Harikrishna\n",
      "2022-11-27 18:12:44\n",
      "Karjakin\n",
      "2022-11-27 19:25:17\n",
      "Le\n",
      "2022-11-27 20:28:01\n",
      "Mamedyarov\n",
      "2022-11-27 20:30:55\n",
      "Nakamura\n",
      "2022-11-27 22:44:34\n",
      "nepo\n",
      "2022-11-27 23:15:11\n"
     ]
    }
   ],
   "source": [
    "for player in players:\n",
    "    print(player)\n",
    "    print(datetime.now().strftime('%Y-%m-%d %H:%M:%S'))\n",
    "    engine = chess.engine.SimpleEngine.popen_uci(stockfish)\n",
    "    pgn = open(pgns/f\"{player}.pgn\")\n",
    "    evals = evaluate_pgn(pgn, engine, limit=chess.engine.Limit(depth=15))\n",
    "    evals.to_csv(path/f\"output/centipawns/{player}.csv\")"
   ]
  }
 ],
 "metadata": {
  "kernelspec": {
   "display_name": "Python 3.10.4 ('ANLY501')",
   "language": "python",
   "name": "python3"
  },
  "language_info": {
   "codemirror_mode": {
    "name": "ipython",
    "version": 3
   },
   "file_extension": ".py",
   "mimetype": "text/x-python",
   "name": "python",
   "nbconvert_exporter": "python",
   "pygments_lexer": "ipython3",
   "version": "3.10.4"
  },
  "vscode": {
   "interpreter": {
    "hash": "eafb25c7f3732cf82e1a841a2e6a9c84ccf703996aacb3b5522dd92506bd641a"
   }
  }
 },
 "nbformat": 4,
 "nbformat_minor": 5
}
